{
 "cells": [
  {
   "cell_type": "code",
   "execution_count": 1,
   "metadata": {},
   "outputs": [],
   "source": [
    "from transformers import RobertaConfig, RobertaForSequenceClassification, RobertaTokenizer\n",
    "from linevul_model import Model\n",
    "import torch\n",
    "import numpy"
   ]
  },
  {
   "cell_type": "code",
   "execution_count": 2,
   "metadata": {},
   "outputs": [
    {
     "name": "stderr",
     "output_type": "stream",
     "text": [
      "Some weights of the model checkpoint at microsoft/codebert-base were not used when initializing RobertaForSequenceClassification: ['pooler.dense.bias', 'pooler.dense.weight']\n",
      "- This IS expected if you are initializing RobertaForSequenceClassification from the checkpoint of a model trained on another task or with another architecture (e.g. initializing a BertForSequenceClassification model from a BertForPreTraining model).\n",
      "- This IS NOT expected if you are initializing RobertaForSequenceClassification from the checkpoint of a model that you expect to be exactly identical (initializing a BertForSequenceClassification model from a BertForSequenceClassification model).\n",
      "Some weights of RobertaForSequenceClassification were not initialized from the model checkpoint at microsoft/codebert-base and are newly initialized: ['classifier.out_proj.weight', 'classifier.dense.weight', 'classifier.out_proj.bias', 'classifier.dense.bias']\n",
      "You should probably TRAIN this model on a down-stream task to be able to use it for predictions and inference.\n"
     ]
    },
    {
     "data": {
      "text/plain": [
       "''"
      ]
     },
     "execution_count": 2,
     "metadata": {},
     "output_type": "execute_result"
    }
   ],
   "source": [
    "device = 'cpu'\n",
    "config = RobertaConfig.from_pretrained('microsoft/codebert-base')\n",
    "config.num_labels = 1\n",
    "config.num_attention_heads = 12\n",
    "tokenizer = RobertaTokenizer.from_pretrained('microsoft/codebert-base')\n",
    "model = RobertaForSequenceClassification.from_pretrained('microsoft/codebert-base', config=config, ignore_mismatched_sizes=True)\n",
    "model = Model(model, config, tokenizer, []).to(device)\n",
    "state_dict = torch.load('./saved_models/checkpoint-best-f1/endor-model.bin', map_location=device)\n",
    "model.load_state_dict(state_dict, strict=False)\n",
    "model.to(device)\n",
    "''''''\n"
   ]
  },
  {
   "cell_type": "code",
   "execution_count": 3,
   "metadata": {},
   "outputs": [],
   "source": [
    "texts = ['''\n",
    "public String getType() {\n",
    "  if (type == null && resource.hasProperty(DCTerms.type)) {\n",
    "    type = resource.getPropertyResourceValue(DCTerms.type).getURI();\n",
    "  }\n",
    "  return type;\n",
    "}\n",
    "''', '''\n",
    "public String getSelectedText() {\n",
    "  if (selectedText == null && resource.hasProperty(FISE.SELECTED_TEXT)) {\n",
    "    selectedText = resource.getProperty(FISE.SELECTED_TEXT).getString();\n",
    "  }\n",
    "  return selectedText;\n",
    "}\n",
    "''', '''\n",
    "public String getSelectionContext() {\n",
    "  if (selectionContext == null && resource.hasProperty(FISE.SELECTION_CONTEXT)) {\n",
    "    selectionContext = resource.getProperty(FISE.SELECTION_CONTEXT).getString();\n",
    "  }\n",
    "  return selectionContext;\n",
    "}\n",
    "''', '''\n",
    "public Long getStart() {\n",
    "  if (start == null && resource.hasProperty(FISE.START)) {\n",
    "    start = resource.getProperty(FISE.START).getLong();\n",
    "  }\n",
    "  return start;\n",
    "}\n",
    "''', '''\n",
    "public Long getEnd() {\n",
    "  if (end == null && resource.hasProperty(FISE.END)) {\n",
    "    end = resource.getProperty(FISE.END).getLong();\n",
    "  }\n",
    "  return end;\n",
    "}\n",
    "''', '''\n",
    "\n",
    "''']"
   ]
  },
  {
   "cell_type": "code",
   "execution_count": 7,
   "metadata": {},
   "outputs": [
    {
     "name": "stdout",
     "output_type": "stream",
     "text": [
      "0\n",
      "0\n",
      "0\n",
      "0\n",
      "0\n"
     ]
    }
   ],
   "source": [
    "for text in texts:\n",
    "    input_ids = tokenizer.encode(text, return_tensors=\"pt\")\n",
    "    input_ids = input_ids.to(device)\n",
    "    model.eval()\n",
    "    with torch.no_grad():\n",
    "        logits = model(input_ids=input_ids)\n",
    "    logits = numpy.array(logits)\n",
    "    print(int(logits[:,1]))\n"
   ]
  }
 ],
 "metadata": {
  "kernelspec": {
   "display_name": "base",
   "language": "python",
   "name": "python3"
  },
  "language_info": {
   "codemirror_mode": {
    "name": "ipython",
    "version": 3
   },
   "file_extension": ".py",
   "mimetype": "text/x-python",
   "name": "python",
   "nbconvert_exporter": "python",
   "pygments_lexer": "ipython3",
   "version": "3.10.10"
  },
  "orig_nbformat": 4
 },
 "nbformat": 4,
 "nbformat_minor": 2
}
